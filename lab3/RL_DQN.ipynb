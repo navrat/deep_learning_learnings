{
  "cells": [
    {
      "cell_type": "markdown",
      "metadata": {
        "id": "view-in-github",
        "colab_type": "text"
      },
      "source": [
        "<a href=\"https://colab.research.google.com/github/navrat/deep_learning_learnings/blob/main/lab3/RL_DQN.ipynb\" target=\"_parent\"><img src=\"https://colab.research.google.com/assets/colab-badge.svg\" alt=\"Open In Colab\"/></a>"
      ]
    },
    {
      "cell_type": "markdown",
      "metadata": {
        "id": "jrI6q7RmWQam"
      },
      "source": [
        "<table align=\"center\">\n",
        "  <td align=\"center\"><a target=\"_blank\" href=\"http://introtodeeplearning.com\">\n",
        "        <img src=\"https://i.ibb.co/Jr88sn2/mit.png\" style=\"padding-bottom:5px;\" />\n",
        "      Visit MIT Deep Learning</a></td>\n",
        "  <td align=\"center\"><a target=\"_blank\" href=\"https://colab.research.google.com/github/aamini/introtodeeplearning/blob/master/lab3/RL.ipynb\">\n",
        "        <img src=\"https://i.ibb.co/2P3SLwK/colab.png\"  style=\"padding-bottom:5px;\" />Run in Google Colab</a></td>\n",
        "  <td align=\"center\"><a target=\"_blank\" href=\"https://github.com/aamini/introtodeeplearning/blob/master/lab3/RL.ipynb\">\n",
        "        <img src=\"https://i.ibb.co/xfJbPmL/github.png\"  height=\"70px\" style=\"padding-bottom:5px;\"  />View Source on GitHub</a></td>\n",
        "</table>\n",
        "\n",
        "# Copyright Information"
      ]
    },
    {
      "cell_type": "code",
      "execution_count": 1,
      "metadata": {
        "id": "wkd375upWYok"
      },
      "outputs": [],
      "source": [
        "# Copyright 2022 MIT 6.S191 Introduction to Deep Learning. All Rights Reserved.\n",
        "# \n",
        "# Licensed under the MIT License. You may not use this file except in compliance\n",
        "# with the License. Use and/or modification of this code outside of 6.S191 must\n",
        "# reference:\n",
        "#\n",
        "# © MIT 6.S191: Introduction to Deep Learning\n",
        "# http://introtodeeplearning.com\n",
        "#"
      ]
    },
    {
      "cell_type": "markdown",
      "metadata": {
        "id": "WoXYKhfZMHiw"
      },
      "source": [
        "# Laboratory 3: Reinforcement Learning\n",
        "\n",
        "Reinforcement learning (RL) is a subset of machine learning which poses learning problems as interactions between agents and environments. It often assumes agents have no prior knowledge of a world, so they must learn to navigate environments by optimizing a reward function. Within an environment, an agent can take certain actions and receive feedback, in the form of positive or negative rewards, with respect to their decision. As such, an agent's feedback loop is somewhat akin to the idea of \"trial and error\", or the manner in which a child might learn to distinguish between \"good\" and \"bad\" actions.\n",
        "\n",
        "In practical terms, our RL agent will interact with the environment by taking an action at each timestep, receiving a corresponding reward, and updating its state according to what it has \"learned\".  \n",
        "\n",
        "![alt text](https://www.kdnuggets.com/images/reinforcement-learning-fig1-700.jpg)\n",
        "\n",
        "While the ultimate goal of reinforcement learning is to teach agents to act in the real, physical world, simulated environments -- like games and simulation engines -- provide a convenient proving ground for developing RL algorithms and agents.\n",
        "\n",
        "In previous labs, we have explored both supervised (with LSTMs, CNNs) and unsupervised / semi-supervised (with VAEs) learning tasks. Reinforcement learning is fundamentally different, in that we are training a deep learning algorithm to govern the actions of our RL agent, that is trying, within its environment, to find the optimal way to achieve a goal. The goal of training an RL agent is to determine the best next step to take to earn the greatest final payoff or return. In this lab, we focus on building a reinforcement learning algorithm to master two different environments with varying complexity. \n",
        "\n",
        "1.   **Cartpole**:   Balance a pole, protruding from a cart, in an upright position by only moving the base left or right. Environment with a low-dimensional observation space.\n",
        "2.   [**Driving in VISTA**](https://www.mit.edu/~amini/pubs/pdf/learning-in-simulation-vista.pdf): Learn a driving control policy for an autonomous vehicle, end-to-end from raw pixel inputs and entirely in the data-driven simulation environment of VISTA. Environment with a high-dimensional observation space -- learning directly from raw pixels.\n",
        "\n",
        "Let's get started! First we'll import TensorFlow, the course package, and some dependencies.\n"
      ]
    },
    {
      "cell_type": "code",
      "execution_count": 2,
      "metadata": {
        "id": "KR9QHuleJ9Bh",
        "colab": {
          "base_uri": "https://localhost:8080/"
        },
        "outputId": "5ad8860f-816a-467c-c20b-c889d75372de"
      },
      "outputs": [
        {
          "output_type": "stream",
          "name": "stdout",
          "text": [
            "Installing MIT deep learning package... Done\n"
          ]
        }
      ],
      "source": [
        "# Import Tensorflow 2.0\n",
        "%tensorflow_version 2.x\n",
        "import tensorflow as tf\n",
        "\n",
        "gpus = tf.config.experimental.list_physical_devices('GPU')\n",
        "if gpus:\n",
        "    for gpu in gpus:\n",
        "        tf.config.experimental.set_memory_growth(gpu, True)\n",
        "\n",
        "# Download and import the MIT 6.S191 package\n",
        "!printf \"Installing MIT deep learning package... \"\n",
        "!pip install --upgrade git+https://github.com/aamini/introtodeeplearning.git &> /dev/null\n",
        "!echo \"Done\""
      ]
    },
    {
      "cell_type": "code",
      "execution_count": 3,
      "metadata": {
        "id": "EvdePP-VyVWp"
      },
      "outputs": [],
      "source": [
        "#Install some dependencies for visualizing the agents\n",
        "!apt-get install -y xvfb python-opengl x11-utils &> /dev/null\n",
        "!pip install gym pyvirtualdisplay scikit-video ffio pyrender &> /dev/null\n",
        "!pip install tensorflow_probability==0.12.0 &> /dev/null\n",
        "import os\n",
        "os.environ['PYOPENGL_PLATFORM'] = 'egl'\n",
        "\n",
        "import numpy as np\n",
        "import matplotlib, cv2\n",
        "import matplotlib.pyplot as plt\n",
        "import base64, io, os, time, gym\n",
        "import IPython, functools\n",
        "import time\n",
        "from tqdm import tqdm\n",
        "import tensorflow_probability as tfp\n",
        "\n",
        "import mitdeeplearning as mdl"
      ]
    },
    {
      "cell_type": "markdown",
      "metadata": {
        "id": "zmrHSiXKTXTY"
      },
      "source": [
        "Before we dive in, let's take a step back and outline our approach, which is generally applicable to reinforcement learning problems in general:\n",
        "\n",
        "1. **Initialize our environment and our agent**: here we will describe the different observations and actions the agent can make in the environemnt.\n",
        "2. **Define our agent's memory**: this will enable the agent to remember its past actions, observations, and rewards.\n",
        "3. **Define a reward function**: describes the reward associated with an action or sequence of actions.\n",
        "4. **Define the learning algorithm**: this will be used to reinforce the agent's good behaviors and discourage bad behaviors.\n"
      ]
    },
    {
      "cell_type": "markdown",
      "metadata": {
        "id": "UT7YL8KBJIIc"
      },
      "source": [
        "# Part 1: Cartpole\n",
        "\n",
        "## 3.1 Define the Cartpole environment and agent\n",
        "\n",
        "### Environment \n",
        "\n",
        "In order to model the environment for the Cartpole task, we'll be using a toolkit developed by OpenAI called [OpenAI Gym](https://gym.openai.com/). It provides several pre-defined environments for training and testing reinforcement learning agents, including those for classic physics control tasks, Atari video games, and robotic simulations. To access the Cartpole environment, we can use `env = gym.make(\"CartPole-v0\")`, which we gained access to when we imported the `gym` package. We can instantiate different [environments](https://gym.openai.com/envs/#classic_control) by passing the enivronment name to the `make` function.\n",
        "\n",
        "One issue we might experience when developing RL algorithms is that many aspects of the learning process are inherently random: initializing game states, changes in the environment, and the agent's actions. As such, it can be helpful to set a initial \"seed\" for the environment to ensure some level of reproducibility. Much like you might use `numpy.random.seed`, we can call the comparable function in gym, `seed`, with our defined environment to ensure the environment's random variables are initialized the same each time."
      ]
    },
    {
      "cell_type": "code",
      "execution_count": 4,
      "metadata": {
        "id": "quv9SC0iIYFm",
        "colab": {
          "base_uri": "https://localhost:8080/"
        },
        "outputId": "27e2dc2e-f11b-4357-a44f-2c0cf3d5f782"
      },
      "outputs": [
        {
          "output_type": "execute_result",
          "data": {
            "text/plain": [
              "[1]"
            ]
          },
          "metadata": {},
          "execution_count": 4
        }
      ],
      "source": [
        "### Instantiate the Cartpole environment ###\n",
        "\n",
        "env = gym.make(\"CartPole-v1\")\n",
        "env.seed(1)"
      ]
    },
    {
      "cell_type": "markdown",
      "metadata": {
        "id": "mhEITUcKK455"
      },
      "source": [
        "In Cartpole, a pole is attached by an un-actuated joint to a cart, which moves along a frictionless track. The pole starts upright, and the goal is to prevent it from falling over. The system is controlled by applying a force of +1 or -1 to the cart. A reward of +1 is provided for every timestep that the pole remains upright. The episode ends when the pole is more than 15 degrees from vertical, or the cart moves more than 2.4 units from the center of the track. A visual summary of the cartpole environment is depicted below:\n",
        "\n",
        "<img width=\"400px\" src=\"https://danielpiedrahita.files.wordpress.com/2017/02/cart-pole.png\"></img>\n",
        "\n",
        "Given this setup for the environment and the objective of the game, we can think about: 1) what observations help define the environment's state; 2) what actions the agent can take. \n",
        "\n",
        "First, let's consider the observation space. In this Cartpole environment our observations are:\n",
        "\n",
        "1. Cart position\n",
        "2. Cart velocity\n",
        "3. Pole angle\n",
        "4. Pole rotation rate\n",
        "\n",
        "We can confirm the size of the space by querying the environment's observation space:\n"
      ]
    },
    {
      "cell_type": "code",
      "execution_count": 5,
      "metadata": {
        "id": "UVJaEcbdIX82",
        "colab": {
          "base_uri": "https://localhost:8080/"
        },
        "outputId": "9b0efbd2-8ef6-4c57-a5f1-3e1f9e3b9656"
      },
      "outputs": [
        {
          "output_type": "stream",
          "name": "stdout",
          "text": [
            "Environment has observation space = Box(-3.4028234663852886e+38, 3.4028234663852886e+38, (4,), float32)\n"
          ]
        }
      ],
      "source": [
        "n_observations = env.observation_space\n",
        "print(\"Environment has observation space =\", n_observations)"
      ]
    },
    {
      "cell_type": "code",
      "source": [
        "print(env.observation_space.high)\n",
        "print(env.observation_space.low)"
      ],
      "metadata": {
        "colab": {
          "base_uri": "https://localhost:8080/"
        },
        "id": "utsG0buhRaJ0",
        "outputId": "d8e77039-d292-4d63-8099-8549c1c46be9"
      },
      "execution_count": 10,
      "outputs": [
        {
          "output_type": "stream",
          "name": "stdout",
          "text": [
            "[4.8000002e+00 3.4028235e+38 4.1887903e-01 3.4028235e+38]\n",
            "[-4.8000002e+00 -3.4028235e+38 -4.1887903e-01 -3.4028235e+38]\n"
          ]
        }
      ]
    },
    {
      "cell_type": "markdown",
      "metadata": {
        "id": "ZibGgjrALgPM"
      },
      "source": [
        "Second, we consider the action space. At every time step, the agent can move either right or left. Again we can confirm the size of the action space by querying the environment:"
      ]
    },
    {
      "cell_type": "code",
      "execution_count": 6,
      "metadata": {
        "id": "qc9SIPxBIXrm",
        "colab": {
          "base_uri": "https://localhost:8080/"
        },
        "outputId": "e09855da-e647-431e-faa6-9e18e4babd21"
      },
      "outputs": [
        {
          "output_type": "stream",
          "name": "stdout",
          "text": [
            "Number of possible actions that the agent can choose from = 2\n"
          ]
        }
      ],
      "source": [
        "n_actions = env.action_space.n\n",
        "print(\"Number of possible actions that the agent can choose from =\", n_actions)"
      ]
    },
    {
      "cell_type": "code",
      "source": [
        "env.action_space"
      ],
      "metadata": {
        "colab": {
          "base_uri": "https://localhost:8080/"
        },
        "id": "ItmfeF0wTExp",
        "outputId": "b9dac860-049e-4267-d503-0f7afd40a492"
      },
      "execution_count": 13,
      "outputs": [
        {
          "output_type": "execute_result",
          "data": {
            "text/plain": [
              "Discrete(2)"
            ]
          },
          "metadata": {},
          "execution_count": 13
        }
      ]
    },
    {
      "cell_type": "markdown",
      "metadata": {
        "id": "pPfHME8aRKkb"
      },
      "source": [
        "### Cartpole agent\n",
        "\n",
        "Now that we have instantiated the environment and understood the dimensionality of the observation and action spaces, we are ready to define our agent. In deep reinforcement learning, a deep neural network defines the agent. This network will take as input an observation of the environment and output the probability of taking each of the possible actions. Since Cartpole is defined by a low-dimensional observation space, a simple feed-forward neural network should work well for our agent. We will define this using the `Sequential` API.\n"
      ]
    },
    {
      "cell_type": "code",
      "execution_count": 81,
      "metadata": {
        "id": "W-o_XK4oQ4eu"
      },
      "outputs": [],
      "source": [
        "### Define the Cartpole agent ###\n",
        "\n",
        "# Defines a feed-forward neural network\n",
        "def create_cartpole_model():\n",
        "    model = tf.keras.models.Sequential([\n",
        "        # First Dense layer\n",
        "        tf.keras.layers.Dense(units=32, activation=\"relu\"), # first when we run with a single layer, the agent does not do very well\n",
        "        tf.keras.layers.Dense(units=32, activation=\"relu\"), # running the second model with this additional 2nd hidden layer. significant improvement!\n",
        "        # TODO: Define the last Dense layer, which will provide the network's output.\n",
        "        # Think about the space the agent needs to act in!\n",
        "        # ['''TODO''' Dense layer to output action probabilities]\n",
        "        tf.keras.layers.Dense(units=n_actions, activation = None)\n",
        "    ])\n",
        "    return model\n",
        "\n",
        "cartpole_model = create_cartpole_model()"
      ]
    },
    {
      "cell_type": "markdown",
      "metadata": {
        "id": "d5D5NSIYS2IW"
      },
      "source": [
        "Now that we have defined the core network architecture, we will define an *action function* that executes a forward pass through the network, given a set of observations, and samples from the output. This sampling from the output probabilities will be used to select the next action for the agent. We will also add support so that the `choose_action` function can handle either a single observation or a batch of observations.\n",
        "\n",
        "**Critically, this action function is totally general -- we will use this function for learning control algorithms for Cartpole, but it is applicable to other RL tasks, as well!**"
      ]
    },
    {
      "cell_type": "code",
      "source": [
        "ob = [1,2,3]\n",
        "np.expand_dims(ob, axis=0) # Gelps create an added dimension to keep the results consistent for batch or single observation\n",
        "np.expand_dims(ob, axis=0).shape"
      ],
      "metadata": {
        "colab": {
          "base_uri": "https://localhost:8080/"
        },
        "id": "W_FisKnXTsZL",
        "outputId": "4b737bd9-981a-4a34-ba44-19502ade6a03"
      },
      "execution_count": 27,
      "outputs": [
        {
          "output_type": "execute_result",
          "data": {
            "text/plain": [
              "(1, 3)"
            ]
          },
          "metadata": {},
          "execution_count": 27
        }
      ]
    },
    {
      "cell_type": "code",
      "source": [
        "logits = [[4,2,3],[2,3,4]]\n",
        "[-1 if np.argmax(k)==0 else 1 for k in logits]"
      ],
      "metadata": {
        "colab": {
          "base_uri": "https://localhost:8080/"
        },
        "id": "dLHEsqRaUQ9d",
        "outputId": "8749b8dd-6909-4a5e-cd10-f073819fff5c"
      },
      "execution_count": 28,
      "outputs": [
        {
          "output_type": "execute_result",
          "data": {
            "text/plain": [
              "[-1, 1]"
            ]
          },
          "metadata": {},
          "execution_count": 28
        }
      ]
    },
    {
      "cell_type": "code",
      "execution_count": 82,
      "metadata": {
        "id": "E_vVZRr8Q4R_"
      },
      "outputs": [],
      "source": [
        "### Define the agent's action function ###\n",
        "\n",
        "# Function that takes observations as input, executes a forward pass through model, \n",
        "#   and outputs a sampled action.\n",
        "# Arguments:\n",
        "#   model: the network that defines our agent\n",
        "#   observation: observation(s) which is/are fed as input to the model\n",
        "#   single: flag as to whether we are handling a single observation or batch of\n",
        "#     observations, provided as an np.array\n",
        "# Returns:\n",
        "#   action: choice of agent action\n",
        "def choose_action(model, observation, single=True):\n",
        "    # add batch dimension to the observation if only a single example was provided\n",
        "    observation = np.expand_dims(observation, axis=0) if single else observation\n",
        "\n",
        "    '''TODO: feed the observations through the model to predict the log probabilities of each possible action.'''\n",
        "    logits = model.predict(observation)\n",
        "\n",
        "    '''TODO: Choose an action from the categorical distribution defined by the log \n",
        "       probabilities of each possible action.'''\n",
        "    action = [-1 if np.argmax(k)==0 else 1 for k in logits] # to get the max always\n",
        "    action = tf.random.categorical(logits, num_samples=1)\n",
        "\n",
        "    action = action.numpy().flatten()\n",
        "\n",
        "    return action[0] if single else action"
      ]
    },
    {
      "cell_type": "code",
      "source": [
        "# how the above code will really work\n",
        "# taking\n",
        "for i in range(10):\n",
        "  print(tf.random.categorical([[1.232,1.43], [1.55,2.33]], num_samples=1).numpy().flatten()) \n",
        "  # single sample produced from each prob distribution, eventually flattened to produce a single vector. 10 samples runs produced "
      ],
      "metadata": {
        "colab": {
          "base_uri": "https://localhost:8080/"
        },
        "id": "f7MU5KBaXnDs",
        "outputId": "0581faf7-f746-49af-8aba-87eb6d7c7202"
      },
      "execution_count": 83,
      "outputs": [
        {
          "output_type": "stream",
          "name": "stdout",
          "text": [
            "[1 1]\n",
            "[1 1]\n",
            "[0 1]\n",
            "[0 1]\n",
            "[1 0]\n",
            "[1 1]\n",
            "[1 0]\n",
            "[1 1]\n",
            "[1 1]\n",
            "[1 1]\n"
          ]
        }
      ]
    },
    {
      "cell_type": "markdown",
      "metadata": {
        "id": "_tR9uAWcTnkr"
      },
      "source": [
        "## 3.2 Define the agent's memory\n",
        "\n",
        "Now that we have instantiated the environment and defined the agent network architecture and action function, we are ready to move on to the next step in our RL workflow:\n",
        "1. **Initialize our environment and our agent**: here we will describe the different observations and actions the agent can make in the environemnt.\n",
        "2. **Define our agent's memory**: this will enable the agent to remember its past actions, observations, and rewards.\n",
        "3. **Define the learning algorithm**: this will be used to reinforce the agent's good behaviors and discourage bad behaviors.\n",
        "\n",
        "In reinforcement learning, training occurs alongside the agent's acting in the environment; an *episode* refers to a sequence of actions that ends in some terminal state, such as the pole falling down or the cart crashing. The agent will need to remember all of its observations and actions, such that once an episode ends, it can learn to \"reinforce\" the good actions and punish the undesirable actions via training. Our first step is to define a simple `Memory` buffer that contains the agent's observations, actions, and received rewards from a given episode. We will also add support to combine a list of `Memory` objects into a single `Memory`. This will be very useful for batching, which will help you accelerate training later on in the lab.\n",
        "\n",
        "**Once again, note the modularity of this memory buffer -- it can and will be applied to other RL tasks as well!**"
      ]
    },
    {
      "cell_type": "code",
      "execution_count": 84,
      "metadata": {
        "id": "8MM6JwXVQ4JG"
      },
      "outputs": [],
      "source": [
        "### Agent Memory ###\n",
        "\n",
        "class Memory:\n",
        "    def __init__(self): \n",
        "        self.clear()\n",
        "\n",
        "  # Resets/restarts the memory buffer\n",
        "    def clear(self): \n",
        "        self.observations = []\n",
        "        self.actions = []\n",
        "        self.rewards = []\n",
        "\n",
        "  # Add observations, actions, rewards to memory\n",
        "    def add_to_memory(self, new_observation, new_action, new_reward): \n",
        "        self.observations.append(new_observation)\n",
        "        \n",
        "        '''TODO: update the list of actions with new action'''\n",
        "        self.actions.append(new_action)\n",
        "\n",
        "        '''TODO: update the list of rewards with new reward'''\n",
        "        self.rewards.append(new_reward)\n",
        "\n",
        "    def __len__(self):\n",
        "        return len(self.actions)\n",
        "\n",
        "# Instantiate a single Memory buffer\n",
        "memory = Memory()"
      ]
    },
    {
      "cell_type": "markdown",
      "metadata": {
        "id": "D4YhtPaUVj5m"
      },
      "source": [
        "## 3.3 Reward function\n",
        "\n",
        "We're almost ready to begin the learning algorithm for our agent! The next step is to compute the rewards of our agent as it acts in the environment. Since we (and the agent) is uncertain about if and when the game or task will end (i.e., when the pole will fall), it is useful to emphasize getting rewards **now** rather than later in the future -- this is the idea of discounting. This is a similar concept to discounting money in the case of interest. Recall from lecture, we use reward discount to give more preference at getting rewards now rather than later in the future. The idea of discounting rewards is similar to discounting money in the case of interest.\n",
        "\n",
        "To compute the expected cumulative reward, known as the **return**, at a given timestep in a learning episode, we sum the discounted rewards expected at that time step $t$, within a learning episode, and projecting into the future. We define the return (cumulative reward) at a time step $t$, $R_{t}$ as:\n",
        "\n",
        ">$R_{t}=\\sum_{k=0}^\\infty\\gamma^kr_{t+k}$\n",
        "\n",
        "where  $0 < \\gamma < 1$ is the discount factor and $r_{t}$ is the reward at time step $t$, and the index $k$ increments projection into the future within a single learning episode. Intuitively, you can think of this function as depreciating any rewards received at later time steps, which will force the agent prioritize getting rewards now. Since we can't extend episodes to infinity, in practice the computation will be limited to the number of timesteps in an episode -- after that the reward is assumed to be zero.\n",
        "\n",
        "Take note of the form of this sum -- we'll have to be clever about how we implement this function. Specifically, we'll need to initialize an array of zeros, with length of the number of time steps, and fill it with the real discounted reward values as we loop through the rewards from the episode, which will have been saved in the agents memory. What we ultimately care about is which actions are better relative to other actions taken in that episode -- so, we'll normalize our computed rewards, using the mean and standard deviation of the rewards across the learning episode.\n",
        "\n",
        "We will use this definition of the reward function in both parts of the lab so make sure you have it executed!\n"
      ]
    },
    {
      "cell_type": "code",
      "source": [
        " x = np.round(np.random.random(10)*10,0)\n",
        " x_mean = np.mean(x)\n",
        " print(np.std(x))\n",
        " x -= x_mean\n",
        " print(np.std(x))\n",
        " x *= 2\n",
        " print(np.std(x))\n",
        " x *= 3\n",
        " print(np.std(x))"
      ],
      "metadata": {
        "id": "nd960FQMaCKm",
        "outputId": "f80b2548-7e62-41a5-c916-ee14458e3ce3",
        "colab": {
          "base_uri": "https://localhost:8080/"
        }
      },
      "execution_count": 85,
      "outputs": [
        {
          "output_type": "stream",
          "name": "stdout",
          "text": [
            "3.124099870362662\n",
            "3.124099870362662\n",
            "6.248199740725324\n",
            "18.74459922217597\n"
          ]
        }
      ]
    },
    {
      "cell_type": "code",
      "source": [
        "for i in reversed(range(0, 2)):\n",
        "  print(i)"
      ],
      "metadata": {
        "id": "FwiiRfJIbEly",
        "outputId": "1fe8c360-bc4e-490f-d99d-cd25724cafff",
        "colab": {
          "base_uri": "https://localhost:8080/"
        }
      },
      "execution_count": 86,
      "outputs": [
        {
          "output_type": "stream",
          "name": "stdout",
          "text": [
            "1\n",
            "0\n"
          ]
        }
      ]
    },
    {
      "cell_type": "code",
      "execution_count": 87,
      "metadata": {
        "id": "5_Q2OFYtQ32X"
      },
      "outputs": [],
      "source": [
        "### Reward function ###\n",
        "\n",
        "# Helper function that normalizes an np.array x\n",
        "def normalize(x):\n",
        "    x -= np.mean(x)\n",
        "    x /= np.std(x)\n",
        "    return x.astype(np.float32)\n",
        "\n",
        "# Compute normalized, discounted, cumulative rewards (i.e., return)\n",
        "# Arguments:\n",
        "#   rewards: reward at timesteps in episode\n",
        "#   gamma: discounting factor\n",
        "# Returns:\n",
        "#   normalized discounted reward\n",
        "def discount_rewards(rewards, gamma=0.95): \n",
        "    discounted_rewards = np.zeros_like(rewards)\n",
        "    R = 0\n",
        "    for t in reversed(range(0, len(rewards))):\n",
        "        # update the total discounted reward\n",
        "        R = R * gamma + rewards[t]\n",
        "        discounted_rewards[t] = R\n",
        "      \n",
        "    return normalize(discounted_rewards)"
      ]
    },
    {
      "cell_type": "markdown",
      "metadata": {
        "id": "QzbY-mjGYcmt"
      },
      "source": [
        "## 3.4 Learning algorithm\n",
        "\n",
        "Now we can start to define the learing algorithm which will be used to reinforce good behaviors of the agent and discourage bad behaviours. In this lab, we will focus on *policy gradient* methods which aim to **maximize** the likelihood of actions that result in large rewards. Equivalently, this means that we want to **minimize** the negative likelihood of these same actions. We achieve this by simply **scaling** the probabilities by their associated rewards -- effectively amplifying the likelihood of actions that resujlt in large rewards.\n",
        "\n",
        "Since the log function is monotonically increasing, this means that minimizing **negative likelihood** is equivalent to minimizing **negative log-likelihood**.  Recall that we can easily compute the negative log-likelihood of a discrete action by evaluting its [softmax cross entropy](https://www.tensorflow.org/api_docs/python/tf/nn/sparse_softmax_cross_entropy_with_logits). Like in supervised learning, we can use stochastic gradient descent methods to achieve the desired minimization. \n",
        "\n",
        "Let's begin by defining the loss function."
      ]
    },
    {
      "cell_type": "code",
      "execution_count": 88,
      "metadata": {
        "id": "fsgZ3IDCY_Zn"
      },
      "outputs": [],
      "source": [
        "### Loss function ###\n",
        "\n",
        "# Arguments:\n",
        "#   logits: network's predictions for actions to take\n",
        "#   actions: the actions the agent took in an episode\n",
        "#   rewards: the rewards the agent received in an episode\n",
        "# Returns:\n",
        "#   loss\n",
        "def compute_loss(logits, actions, rewards): \n",
        "    '''TODO: complete the function call to compute the negative log probabilities'''\n",
        "    neg_logprob = tf.nn.sparse_softmax_cross_entropy_with_logits(\n",
        "       logits=logits, labels=actions)\n",
        "  \n",
        "    '''TODO: scale the negative log probability by the rewards'''\n",
        "    loss = tf.reduce_mean(neg_logprob*rewards)\n",
        "    return loss"
      ]
    },
    {
      "cell_type": "markdown",
      "metadata": {
        "id": "Rr5vQ9fqbPpp"
      },
      "source": [
        "Now let's use the loss function to define a training step of our learning algorithm. This is a very generalizable definition which we will use "
      ]
    },
    {
      "cell_type": "code",
      "execution_count": 89,
      "metadata": {
        "id": "_50ada7nbZ7L"
      },
      "outputs": [],
      "source": [
        "### Training step (forward and backpropagation) ###\n",
        "\n",
        "def train_step(model, loss_function, optimizer, observations, actions, discounted_rewards, custom_fwd_fn=None):\n",
        "    with tf.GradientTape() as tape:\n",
        "        # Forward propagate through the agent network\n",
        "        if custom_fwd_fn is not None:\n",
        "            prediction = custom_fwd_fn(observations)\n",
        "        else: \n",
        "            prediction = model(observations)\n",
        "\n",
        "        '''TODO: call the compute_loss function to compute the loss'''\n",
        "        loss = loss_function(prediction, actions, discounted_rewards)\n",
        "\n",
        "    '''TODO: run backpropagation to minimize the loss using the tape.gradient method. \n",
        "             Unlike supervised learning, RL is *extremely* noisy, so you will benefit \n",
        "             from additionally clipping your gradients to avoid falling into \n",
        "             dangerous local minima. After computing your gradients try also clipping\n",
        "             by a global normalizer. Try different clipping values, usually clipping \n",
        "             between 0.5 and 5 provides reasonable results. '''\n",
        "    grads = tape.gradient(loss, model.trainable_variables)\n",
        "\n",
        "    grads, _ = tf.clip_by_global_norm(grads, 2)\n",
        "    optimizer.apply_gradients(zip(grads, model.trainable_variables))"
      ]
    },
    {
      "cell_type": "markdown",
      "metadata": {
        "id": "XsjKXh6BcgjR"
      },
      "source": [
        "## 3.5 Run cartpole!\n",
        "\n",
        "Having had no prior knowledge of the environment, the agent will begin to learn how to balance the pole on the cart based only on the feedback received from the environment! Having defined how our agent can move, how it takes in new observations, and how it updates its state, we'll see how it gradually learns a policy of actions to optimize balancing the pole as long as possible. To do this, we'll track how the rewards evolve as a function of training -- how should the rewards change as training progresses?"
      ]
    },
    {
      "cell_type": "code",
      "execution_count": 90,
      "metadata": {
        "id": "-hZ7E6JOJ9Bn"
      },
      "outputs": [],
      "source": [
        "## Training parameters ##\n",
        "## Re-run this cell to restart training from scratch ##\n",
        "\n",
        "# TODO: Learning rate and optimizer\n",
        "learning_rate = 0.001\n",
        "\n",
        "optimizer = tf.keras.optimizers.Adam(learning_rate=learning_rate)\n",
        "\n",
        "# instantiate cartpole agent\n",
        "cartpole_model = create_cartpole_model()\n",
        "\n",
        "# to track our progress\n",
        "smoothed_reward = mdl.util.LossHistory(smoothing_factor=0.95)\n",
        "plotter = mdl.util.PeriodicPlotter(sec=2, xlabel='Iterations', ylabel='Rewards')"
      ]
    },
    {
      "cell_type": "code",
      "execution_count": 91,
      "metadata": {
        "id": "XmOzc2rrcn8Q",
        "scrolled": false,
        "colab": {
          "base_uri": "https://localhost:8080/",
          "height": 541
        },
        "outputId": "e2602bb9-e0de-43ec-f0b2-eae1055e83bb"
      },
      "outputs": [
        {
          "output_type": "display_data",
          "data": {
            "text/plain": [
              "<Figure size 432x288 with 1 Axes>"
            ],
            "image/png": "[encoded data removed]"
          },
          "metadata": {}
        },
        {
          "output_type": "display_data",
          "data": {
            "text/plain": [
              "<Figure size 432x288 with 1 Axes>"
            ],
            "image/png": "[encoded data removed]"
          },
          "metadata": {
            "needs_background": "light"
          }
        }
      ],
      "source": [
        "## Cartpole training! ##\n",
        "## Note: stoping and restarting this cell will pick up training where you\n",
        "#        left off. To restart training you need to rerun the cell above as \n",
        "#        well (to re-initialize the model and optimizer)\n",
        "\n",
        "if hasattr(tqdm, '_instances'): tqdm._instances.clear() # clear if it exists\n",
        "for i_episode in range(500):\n",
        "\n",
        "    plotter.plot(smoothed_reward.get())\n",
        "    # Restart the environment\n",
        "    observation = env.reset()\n",
        "    memory.clear()\n",
        "\n",
        "    while True:\n",
        "        # using our observation, choose an action and take it in the environment\n",
        "        action = choose_action(cartpole_model, observation)\n",
        "        next_observation, reward, done, info = env.step(action)\n",
        "        # add to memory\n",
        "        memory.add_to_memory(observation, action, reward)\n",
        "\n",
        "        # is the episode over? did you crash or do so well that you're done?\n",
        "        if done:\n",
        "            # determine total reward and keep a record of this\n",
        "            total_reward = sum(memory.rewards)\n",
        "            smoothed_reward.append(total_reward)\n",
        "          \n",
        "            # initiate training - remember we don't know anything about how the \n",
        "            #   agent is doing until it has crashed!\n",
        "            g = train_step(cartpole_model, compute_loss, optimizer, \n",
        "                       observations=np.vstack(memory.observations),\n",
        "                       actions=np.array(memory.actions),\n",
        "                       discounted_rewards = discount_rewards(memory.rewards))\n",
        "          \n",
        "            # reset the memory\n",
        "            memory.clear()\n",
        "            break\n",
        "        # update our observatons\n",
        "        observation = next_observation"
      ]
    },
    {
      "cell_type": "markdown",
      "metadata": {
        "id": "mkcUtGF1VE-K"
      },
      "source": [
        "To get a sense of how our agent did, we can save a video of the trained model working on balancing the pole. Realize that this is a brand new environment that the agent has not seen before!\n",
        "\n",
        "Let's display the saved video to watch how our agent did!\n"
      ]
    },
    {
      "cell_type": "code",
      "execution_count": 95,
      "metadata": {
        "id": "PAYBkv6Zbk0J",
        "scrolled": true,
        "colab": {
          "base_uri": "https://localhost:8080/",
          "height": 438
        },
        "outputId": "8b8069f9-e99e-4faf-d706-d0174afb9849"
      },
      "outputs": [
        {
          "output_type": "stream",
          "name": "stdout",
          "text": [
            "Successfully saved 322 frames into CartPole-v1.mp4!\n"
          ]
        },
        {
          "output_type": "execute_result",
          "data": {
            "text/plain": [
              "<IPython.core.display.HTML object>"
            ],
            "text/html": [
              "\n",
              "        <video controls >\n",
              "            <source src=\"data:video/mp4;base64,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\" type=\"video/mp4\" />\n",
              "        </video>"
            ]
          },
          "metadata": {},
          "execution_count": 95
        }
      ],
      "source": [
        "matplotlib.use('Agg') \n",
        "saved_cartpole = mdl.lab3.save_video_of_model(cartpole_model, \"CartPole-v1\")\n",
        "mdl.lab3.play_video(saved_cartpole)"
      ]
    },
    {
      "cell_type": "markdown",
      "metadata": {
        "id": "CSbVNDpaVb3_"
      },
      "source": [
        "How does the agent perform? Could you train it for shorter amounts of time and still perform well? Do you think that training longer would help even more? "
      ]
    },
    {
      "cell_type": "markdown",
      "metadata": {
        "id": "Eu6Mqxc720ST"
      },
      "source": [
        "# Part 2: Training Autonomous Driving Policies in VISTA\n",
        "Autonomous control has traditionally be dominated by algorithms that explicitly decompose individual aspects of the control pipeline. For example, in autonomous driving, traditional methods work by first detecting road and lane boundaries, and then using path planning and rule-based methods to derive a control policy. Deep learning offers something very different -- the possibility of optimizing all these steps simultaneously, learning control end-to-end directly from raw sensory inputs.\n",
        "\n",
        "**You will explore the power of deep learning to learn autonomous control policies that are trained *end-to-end, directly from raw sensory data, and entirely within a simulated world*.**\n",
        "\n",
        "We will use the data-driven simulation engine [VISTA](https://ieeexplore.ieee.org/stamp/stamp.jsp?arnumber=8957584&tag=1), which uses techniques in computer vision to synthesize new photorealistic trajectories and driving viewpoints, that are still consistent with the world's appearance and fall within the envelope of a real driving scene. This is a powerful approach -- we can synthesize data that is photorealistic, grounded in the real world, and then use this data for training and testing autonomous vehicle control policies within this simulator.\n",
        "\n",
        "In this part of the lab, you will use reinforcement lerning to build a self-driving agent with a neural network-based controller trained on RGB camera data. We will train the self-driving agent for the task of lane following. Beyond this data modality and control task, VISTA also supports [different data modalities](https://arxiv.org/pdf/2111.12083.pdf) (such as LiDAR data) and [different learning tasks](https://arxiv.org/pdf/2111.12137.pdf) (such as multi-car interactions).\n",
        "<p align=\"center\">\n",
        "<img src=\"https://raw.githubusercontent.com/aamini/introtodeeplearning/master/lab3/img/vista_overview.png\" width=\"600\"/>\n",
        "</p>\n",
        "\n",
        "\n",
        "You will put your agent to the test in the VISTA environment, and potentially, on board a full-scale autonomous vehicle! Specifically, as part of the MIT lab competitions, high-performing agents -- evaluated based on the maximum distance they can travel without crashing -- will have the opportunity to be put to the ***real*** test onboard a full-scale autonomous vehicle!!! \n",
        "\n",
        "We start by installing dependencies. This includes installing the VISTA package itself."
      ]
    },
    {
      "cell_type": "code",
      "source": [
        "!pip install --upgrade git+https://github.com/vista-simulator/vista-6s191.git"
      ],
      "metadata": {
        "id": "WKWcagMpRLIB",
        "colab": {
          "base_uri": "https://localhost:8080/"
        },
        "outputId": "95bacca0-5b04-42c3-a14c-275058153703"
      },
      "execution_count": 96,
      "outputs": [
        {
          "output_type": "stream",
          "name": "stdout",
          "text": [
            "Looking in indexes: https://pypi.org/simple, https://us-python.pkg.dev/colab-wheels/public/simple/\n",
            "Collecting git+https://github.com/vista-simulator/vista-6s191.git\n",
            "  Cloning https://github.com/vista-simulator/vista-6s191.git to /tmp/pip-req-build-7a4_euh0\n",
            "  Running command git clone -q https://github.com/vista-simulator/vista-6s191.git /tmp/pip-req-build-7a4_euh0\n",
            "Building wheels for collected packages: vista\n",
            "  Building wheel for vista (setup.py) ... \u001b[?25l\u001b[?25hdone\n",
            "  Created wheel for vista: filename=vista-0.1.0-py3-none-any.whl size=71732 sha256=7909644484b3a0fc77fc8c8264f647122c0c261c81525c096433f5644a10a983\n",
            "  Stored in directory: /tmp/pip-ephem-wheel-cache-6_i3alzy/wheels/ff/19/49/f129fb1af9a79d6833e2ba58a5e217487643c11d6f041d7419\n",
            "Successfully built vista\n",
            "Installing collected packages: vista\n",
            "Successfully installed vista-0.1.0\n"
          ]
        }
      ]
    },
    {
      "cell_type": "code",
      "source": [
        "import vista\n",
        "from vista.utils import logging\n",
        "logging.setLevel(logging.ERROR)"
      ],
      "metadata": {
        "id": "ByV6c5GKTgHq",
        "colab": {
          "base_uri": "https://localhost:8080/"
        },
        "outputId": "8b3f6ea9-f619-4082-f7f5-56cf0331aa28"
      },
      "execution_count": 97,
      "outputs": [
        {
          "output_type": "stream",
          "name": "stderr",
          "text": [
            "\u001b[93m2022-07-03 11:17:01,059::WARNING::[vista.entities.sensors.EventCamera.<module>] Fail to import module for event camera. Remember to do source <some-dir>/openeb/build/utils/scripts/setup_env.shCan ignore this if not using it\u001b[0;0m\n"
          ]
        }
      ]
    },
    {
      "cell_type": "markdown",
      "metadata": {
        "id": "70Vpby5VJ9Bp"
      },
      "source": [
        "VISTA provides some documentation which will be very helpful to completing this lab. You can always use the `?vista` command to access the package documentation."
      ]
    },
    {
      "cell_type": "code",
      "source": [
        "### Access documentation for VISTA\n",
        "### Run ?vista.<[name of module or function]>\n",
        "?vista.Display "
      ],
      "metadata": {
        "id": "-RTw0OK4nTYi"
      },
      "execution_count": null,
      "outputs": []
    },
    {
      "cell_type": "markdown",
      "source": [
        "## 3.6 Create an environment in VISTA\n",
        "\n",
        "Environments in VISTA are based on and built from human-collected driving *traces*. A trace is the data from a single driving run. In this case we'll be working with RGB camera data, from the viewpoint of the driver looking out at the road: the camera collects this data as the car drives around!\n",
        "\n",
        "We will start by accessing a trace. We use that trace to instantiate an environment within VISTA. This is our `World` and defines the environment we will use for reinforcement learning. The trace itself helps to define a space for the environment; with VISTA, we can use the trace to generate new photorealistic viewpoints anywhere within that space. This provides valuable new training data as well as a robust testing environment.\n",
        "\n",
        "The simulated environment of VISTA will serve as our training ground and testbed for reinforcement learning. We also define an `Agent` -- a car -- that will actually move around in the environmnet, and make and carry out *actions* in this world. Because this is an entirely simulated environment, our car agent will also be simulated!\n",
        "\n"
      ],
      "metadata": {
        "id": "XauFMMZjnYxn"
      }
    },
    {
      "cell_type": "code",
      "execution_count": null,
      "metadata": {
        "scrolled": true,
        "id": "JrTpTBJsJ9Bp"
      },
      "outputs": [],
      "source": [
        "# Download and extract the data for vista (auto-skip if already downloaded)\n",
        "!wget -nc -q --show-progress https://www.dropbox.com/s/62pao4mipyzk3xu/vista_traces.zip\n",
        "print(\"Unzipping data...\")\n",
        "!unzip -o -q vista_traces.zip\n",
        "print(\"Done downloading and unzipping data!\")\n",
        "\n",
        "trace_root = \"./vista_traces\"\n",
        "trace_path = [\n",
        "    \"20210726-154641_lexus_devens_center\", \n",
        "    \"20210726-155941_lexus_devens_center_reverse\", \n",
        "    \"20210726-184624_lexus_devens_center\", \n",
        "    \"20210726-184956_lexus_devens_center_reverse\", \n",
        "]\n",
        "trace_path = [os.path.join(trace_root, p) for p in trace_path]\n",
        "\n",
        "# Create a virtual world with VISTA, the world is defined by a series of data traces\n",
        "world = vista.World(trace_path, trace_config={'road_width': 4})\n",
        "\n",
        "# Create a car in our virtual world. The car will be able to step and take different \n",
        "#   control actions. As the car moves, its sensors will simulate any changes it environment\n",
        "car = world.spawn_agent(\n",
        "    config={\n",
        "        'length': 5.,\n",
        "        'width': 2.,\n",
        "        'wheel_base': 2.78,\n",
        "        'steering_ratio': 14.7,\n",
        "        'lookahead_road': True\n",
        "    })\n",
        "\n",
        "# Create a camera on the car for synthesizing the sensor data that we can use to train with! \n",
        "camera = car.spawn_camera(config={'size': (200, 320)})\n",
        "\n",
        "# Define a rendering display so we can visualize the simulated car camera stream and also \n",
        "#   get see its physical location with respect to the road in its environment. \n",
        "display = vista.Display(world, display_config={\"gui_scale\": 2, \"vis_full_frame\": False})\n",
        "\n",
        "# Define a simple helper function that allows us to reset VISTA and the rendering display\n",
        "def vista_reset():\n",
        "    world.reset()\n",
        "    display.reset()\n",
        "vista_reset()"
      ]
    },
    {
      "cell_type": "markdown",
      "source": [
        "If successful, you should see a blank black screen at this point. Your rendering display has  been initialized."
      ],
      "metadata": {
        "id": "aa3sA9FKndIx"
      }
    },
    {
      "cell_type": "markdown",
      "source": [
        "## 3.7 Our virtual agent: the car\n",
        "\n",
        "Our goal is to learn a control policy for our agent, our (hopefully) autonomous vehicle, end-to-end directly from RGB camera sensory input. As in Cartpole, we need to define how our virtual agent will interact with its environment.\n",
        "\n",
        "### Define agent's action functions\n",
        "In the case of driving, the car agent can act -- taking a step in the VISTA environment -- according to a given control command. This amounts to moving with a desired speed and a desired *curvature*, which reflects the car's turn radius. Curvature has units $\\frac{1}{meter}$. So, if a car is traversing a circle of radius $r$ meters, then it is turning with a curvature $\\frac{1}{r}$. The curvature is therefore correlated with the car's steering wheel angle, which actually controls its turn radius. Let's define the car agent's step function to capture the action of moving with a desired speed and desired curvature."
      ],
      "metadata": {
        "id": "rNzwTTwzngQH"
      }
    },
    {
      "cell_type": "code",
      "execution_count": null,
      "metadata": {
        "id": "ZjFecj3WJ9Bp"
      },
      "outputs": [],
      "source": [
        "# First we define a step function, to allow our virtual agent to step \n",
        "# with a given control command through the environment \n",
        "# agent can act with a desired curvature (turning radius, like steering angle)\n",
        "# and desired speed. if either is not provided then this step function will \n",
        "# use whatever the human executed at that time in the real data.\n",
        "\n",
        "def vista_step(curvature=None, speed=None):\n",
        "    # Arguments:\n",
        "    #   curvature: curvature to step with\n",
        "    #   speed: speed to step with\n",
        "    if curvature is None: \n",
        "        curvature = car.trace.f_curvature(car.timestamp)\n",
        "    if speed is None: \n",
        "        speed = car.trace.f_speed(car.timestamp)\n",
        "    \n",
        "    car.step_dynamics(action=np.array([curvature, speed]), dt=1/15.)\n",
        "    car.step_sensors()"
      ]
    },
    {
      "cell_type": "markdown",
      "metadata": {
        "id": "aRmV3GtkJ9Bp"
      },
      "source": [
        "### Inspect driving trajectories in VISTA\n",
        "\n",
        "Recall that our VISTA environment is based off an initial human-collected driving trace. Also, we defined the agent's step function to defer to what the human executed if it is not provided with a desired speed and curvature with which to move.\n",
        "\n",
        "Thus, we can further inspect our environment by using the step function for the driving agent to move through the environment by following the human path. The stepping and iteration will take about 1 iteration per second. We will then observe the data that comes out to see the agent's traversal of the environment."
      ]
    },
    {
      "cell_type": "code",
      "execution_count": null,
      "metadata": {
        "id": "rp8G7eirJ9Bp"
      },
      "outputs": [],
      "source": [
        "import shutil, os, subprocess, cv2\n",
        "\n",
        "# Create a simple helper class that will assist us in storing videos of the render\n",
        "class VideoStream():\n",
        "    def __init__(self):\n",
        "        self.tmp = \"./tmp\"\n",
        "        if os.path.exists(self.tmp) and os.path.isdir(self.tmp):\n",
        "            shutil.rmtree(self.tmp)\n",
        "        os.mkdir(self.tmp)\n",
        "    def write(self, image, index):\n",
        "        cv2.imwrite(os.path.join(self.tmp, f\"{index:04}.png\"), image)\n",
        "    def save(self, fname):\n",
        "        cmd = f\"/usr/bin/ffmpeg -f image2 -i {self.tmp}/%04d.png -crf 0 -y {fname}\"\n",
        "        subprocess.call(cmd, shell=True)\n",
        "        "
      ]
    },
    {
      "cell_type": "code",
      "execution_count": null,
      "metadata": {
        "scrolled": true,
        "id": "MlC5t0dyJ9Bq"
      },
      "outputs": [],
      "source": [
        "## Render and inspect a human trace ##\n",
        "\n",
        "vista_reset()\n",
        "stream = VideoStream()\n",
        "\n",
        "for i in tqdm(range(100)):\n",
        "    vista_step()\n",
        "    \n",
        "    # Render and save the display\n",
        "    vis_img = display.render()\n",
        "    stream.write(vis_img[:, :, ::-1], index=i)\n",
        "    if car.done: \n",
        "        break\n",
        "\n",
        "print(\"Saving trajectory of human following...\")\n",
        "stream.save(\"human_follow.mp4\")      \n",
        "mdl.lab3.play_video(\"human_follow.mp4\")"
      ]
    },
    {
      "cell_type": "markdown",
      "source": [
        "Check out the simulated VISTA environment. What do you notice about the environment, the agent, and the setup of the simulation engine? How could these aspects useful for training models?"
      ],
      "metadata": {
        "id": "SCeRDuqV-bye"
      }
    },
    {
      "cell_type": "markdown",
      "metadata": {
        "id": "CvJCRINbJ9Bq"
      },
      "source": [
        "### Define terminal states: crashing! (oh no)\n",
        "\n",
        "Recall from Cartpole, our training episodes ended when the pole toppled, i.e., the agent crashed and failed. Similarly for training vehicle control policies in VISTA, we have to define what a ***crash*** means. We will define a crash as any time the car moves out of its lane or exceeds its maximum rotation. This will define the end of a training episode."
      ]
    },
    {
      "cell_type": "code",
      "execution_count": null,
      "metadata": {
        "id": "2_6U_VAFJ9Bq"
      },
      "outputs": [],
      "source": [
        "## Define terminal states and crashing conditions ##\n",
        "\n",
        "def check_out_of_lane(car):\n",
        "    distance_from_center = np.abs(car.relative_state.x)\n",
        "    road_width = car.trace.road_width \n",
        "    half_road_width = road_width / 2\n",
        "    return distance_from_center > half_road_width\n",
        "\n",
        "def check_exceed_max_rot(car):\n",
        "    maximal_rotation = np.pi / 10.\n",
        "    current_rotation = np.abs(car.relative_state.yaw)\n",
        "    return current_rotation > maximal_rotation\n",
        "\n",
        "def check_crash(car): \n",
        "    return check_out_of_lane(car) or check_exceed_max_rot(car) or car.done"
      ]
    },
    {
      "cell_type": "markdown",
      "metadata": {
        "id": "YFXUZ8ppJ9Bq"
      },
      "source": [
        "### Quick check: acting with a random control policy\n",
        "\n",
        "At this point, we have (1) an environment; (2) an agent, with a step function. Before we start learning a control policy for our vehicle agent, we start by testing out the behavior of the agent in the virtual world by providing it with a completely random control policy. Naturally we expect that the behavior will not be very robust! Let's take a look."
      ]
    },
    {
      "cell_type": "code",
      "execution_count": null,
      "metadata": {
        "id": "ZIyI5MqwJ9Bq"
      },
      "outputs": [],
      "source": [
        "## Behavior with random control policy ##\n",
        "\n",
        "i = 0\n",
        "num_crashes = 5\n",
        "stream = VideoStream()\n",
        "\n",
        "for _ in range(num_crashes):\n",
        "    vista_reset()\n",
        "    \n",
        "    while not check_crash(car):\n",
        "\n",
        "        # Sample a random curvature (between +/- 1/3), keep speed constant\n",
        "        curvature = np.random.uniform(-1/3, 1/3)\n",
        "\n",
        "        # Step the simulated car with the same action\n",
        "        vista_step(curvature=curvature)\n",
        "\n",
        "        # Render and save the display\n",
        "        vis_img = display.render()\n",
        "        stream.write(vis_img[:, :, ::-1], index=i)\n",
        "        i += 1\n",
        "    \n",
        "    print(f\"Car crashed on step {i}\")\n",
        "    for _ in range(5):\n",
        "        stream.write(vis_img[:, :, ::-1], index=i)\n",
        "        i += 1\n",
        "\n",
        "print(\"Saving trajectory with random policy...\")\n",
        "stream.save(\"random_policy.mp4\")\n",
        "mdl.lab3.play_video(\"random_policy.mp4\")"
      ]
    },
    {
      "cell_type": "markdown",
      "metadata": {
        "id": "OL02qW5vJ9Br"
      },
      "source": [
        "## 3.8 Preparing to learn a control policy: data preprocessing\n",
        "\n",
        "So, hopefully you saw that the random control policy was, indeed, not very robust. Yikes. Our overall goal in this lab is to build a self-driving agent using a neural network controller trained entirely in the simulator VISTA. This means that the data used to train and test the self-driving agent will be supplied by VISTA. As a step towards this, we will do some data preprocessing to make it easier for the network to learn from these visual data.\n",
        "\n",
        "Previously we rendered the data with a display as a quick check that the environment was working properly. For training the agent, we will directly access the car's observations, extract Regions Of Interest (ROI) from those observations, crop them out, and use these crops as training data for our self-driving agent controller. Observe both the full observation and the extracted ROI."
      ]
    },
    {
      "cell_type": "code",
      "execution_count": null,
      "metadata": {
        "id": "4UxX6mk5J9Br"
      },
      "outputs": [],
      "source": [
        "from google.colab.patches import cv2_imshow\n",
        "\n",
        "# Directly access the raw sensor observations of the simulated car\n",
        "vista_reset()\n",
        "full_obs = car.observations[camera.name]\n",
        "cv2_imshow(full_obs)"
      ]
    },
    {
      "cell_type": "code",
      "source": [
        "## ROIs ##\n",
        "\n",
        "# Crop a smaller region of interest (ROI). This is necessary because: \n",
        "#   1. The full observation will have distortions on the edge as the car deviates from the human\n",
        "#   2. A smaller image of the environment will be easier for our model to learn from\n",
        "region_of_interest = camera.camera_param.get_roi()\n",
        "i1, j1, i2, j2 = region_of_interest\n",
        "cropped_obs = full_obs[i1:i2, j1:j2]\n",
        "cv2_imshow(cropped_obs)"
      ],
      "metadata": {
        "id": "KAH-5uxrbkng"
      },
      "execution_count": null,
      "outputs": []
    },
    {
      "cell_type": "markdown",
      "metadata": {
        "id": "znxypklaJ9Br"
      },
      "source": [
        "We will group these steps into some helper functions that we can use during training: \n",
        "1. `preprocess`: takes a full observation as input and returns a preprocessed version. This can include whatever preprocessing steps you would like! For example, ROI extraction, cropping, augmentations, and so on. You are welcome to add and modify this function as you seek to optimize your self-driving agent!\n",
        "2. `grab_and_preprocess`: grab the car's current observation (i.e., image view from its perspective), and then call the `preprocess` function on that observation."
      ]
    },
    {
      "cell_type": "code",
      "execution_count": null,
      "metadata": {
        "id": "7GQY_UwSJ9Br"
      },
      "outputs": [],
      "source": [
        "## Data preprocessing functions ##\n",
        "\n",
        "def preprocess(full_obs):\n",
        "    # Extract ROI\n",
        "    i1, j1, i2, j2 = camera.camera_param.get_roi()\n",
        "    obs = full_obs[i1:i2, j1:j2]\n",
        "    \n",
        "    # Rescale to [0, 1]\n",
        "    obs = obs / 255.\n",
        "    return obs\n",
        "\n",
        "def grab_and_preprocess_obs(car):\n",
        "    full_obs = car.observations[camera.name]\n",
        "    obs = preprocess(full_obs)\n",
        "    return obs"
      ]
    },
    {
      "cell_type": "markdown",
      "metadata": {
        "id": "WAueY4PfJ9Br"
      },
      "source": [
        "## 3.9 Define the self-driving agent and learning algorithm\n",
        "\n",
        "As before, we'll use a neural network to define our agent and output actions that it will take. Fixing the agent's driving speed, we will train this network to predict a curvature -- a continuous value -- that will relate to the car's turn radius. Specifically, define the model to output a prediction of a continuous distribution of curvature, defined by a mean $\\mu$ and standard deviation $\\sigma$. These parameters will define a Normal distribution over curvature.\n",
        "\n",
        "What network architecture do you think would be especially well suited to the task of end-to-end control learning from RGB images? Since our observations are in the form of RGB images, we'll start with a convolutional network. Note that you will be tasked with completing a template CNN architecture for the self-driving car agent -- but you should certainly experiment beyond this template to try to optimize performance!"
      ]
    },
    {
      "cell_type": "code",
      "execution_count": null,
      "metadata": {
        "id": "f-pAQA7zJ9Br"
      },
      "outputs": [],
      "source": [
        "### Define the self-driving agent ###\n",
        "# Note: we start with a template CNN architecture -- experiment away as you \n",
        "#   try to optimize your agent!\n",
        "\n",
        "# Functionally define layers for convenience\n",
        "# All convolutional layers will have ReLu activation\n",
        "act = tf.keras.activations.swish\n",
        "Conv2D = functools.partial(tf.keras.layers.Conv2D, padding='valid', activation=act)\n",
        "Flatten = tf.keras.layers.Flatten\n",
        "Dense = tf.keras.layers.Dense\n",
        "\n",
        "# Defines a CNN for the self-driving agent\n",
        "def create_driving_model():\n",
        "    model = tf.keras.models.Sequential([\n",
        "        # Convolutional layers\n",
        "        # First, 32 5x5 filters and 2x2 stride\n",
        "        Conv2D(filters=32, kernel_size=5, strides=2),\n",
        "\n",
        "        # TODO: define convolutional layers with 48 5x5 filters and 2x2 stride\n",
        "        # Conv2D('''TODO'''),\n",
        "\n",
        "        # TODO: define two convolutional layers with 64 3x3 filters and 2x2 stride\n",
        "        # Conv2D('''TODO'''),\n",
        "\n",
        "        Flatten(),\n",
        "\n",
        "        # Fully connected layer and output\n",
        "        Dense(units=128, activation=act),\n",
        "        \n",
        "        # TODO: define the output dimension of the last Dense layer. \n",
        "        #    Pay attention to the space the agent needs to act in.\n",
        "        #    Remember that this model is outputing a distribution of *continuous* \n",
        "        #    actions, which take a different shape than discrete actions.\n",
        "        #    How many outputs should there be to define a distribution?'''\n",
        "\n",
        "        # Dense('''TODO''')\n",
        "\n",
        "    ])\n",
        "    return model\n",
        "\n",
        "driving_model = create_driving_model()"
      ]
    },
    {
      "cell_type": "markdown",
      "metadata": {
        "id": "hlyL0HL1J9Bs"
      },
      "source": [
        "Now we will define the learing algorithm which will be used to reinforce good behaviors of the agent and discourage bad behaviours. As with Cartpole, we will use a *policy gradient* method that aims to **maximize** the likelihood of actions that result in large rewards. However, there are some key differences. In Cartpole, the agent's action space was discrete: it could only move left or right. In driving, the agent's action space is continuous: the control network is outputting a curvature, which is a continuous variable. We will define a probability distribution, defined by a mean and variance, over this continuous action space to define the possible actions the self-driving agent can take.\n",
        "\n",
        "You will define three functions that reflect these changes and form the core of the the learning algorithm:\n",
        "1. `run_driving_model`: takes an input image, and outputs a prediction of a continuous distribution of curvature. This will take the form of a Normal distribuion and will be defined using TensorFlow probability's [`tfp.distributions.Normal`](https://www.tensorflow.org/probability/api_docs/python/tfp/distributions/Normal) function, so the model's prediction will include both a mean and variance. Operates on an instance `driving_model` defined above.\n",
        "2. `compute_driving_loss`: computes the loss for a prediction that is in the form of a continuous Normal distribution. Recall as in Cartpole, computing the loss involves multiplying the predicted log probabilities by the discounted rewards. Similar to `compute_loss` in Cartpole.\n",
        "\n",
        "The `train_step` function to use the loss function to execute a training step will be the same as we used in Cartpole! This will have to be executed abov in order for the driving agent to train properly."
      ]
    },
    {
      "cell_type": "code",
      "execution_count": null,
      "metadata": {
        "id": "-UWhFhToJ9Bs"
      },
      "outputs": [],
      "source": [
        "## The self-driving learning algorithm ##\n",
        "\n",
        "# hyperparameters\n",
        "max_curvature = 1/8. \n",
        "max_std = 0.1 \n",
        "\n",
        "def run_driving_model(image):\n",
        "    # Arguments:\n",
        "    #   image: an input image\n",
        "    # Returns:\n",
        "    #   pred_dist: predicted distribution of control actions \n",
        "    single_image_input = tf.rank(image) == 3  # missing 4th batch dimension\n",
        "    if single_image_input:\n",
        "        image = tf.expand_dims(image, axis=0)\n",
        "\n",
        "    '''TODO: get the prediction of the model given the current observation.'''    \n",
        "    # distribution = ''' TODO '''\n",
        "\n",
        "    mu, logsigma = tf.split(distribution, 2, axis=1)\n",
        "    mu = max_curvature * tf.tanh(mu) # conversion\n",
        "    sigma = max_std * tf.sigmoid(logsigma) + 0.005 # conversion\n",
        "    \n",
        "    '''TODO: define the predicted distribution of curvature, given the predicted\n",
        "    mean mu and standard deviation sigma. Use a Normal distribution as defined\n",
        "    in TF probability (hint: tfp.distributions)'''\n",
        "    # pred_dist = ''' TODO '''\n",
        "  \n",
        "    return pred_dist\n",
        "\n",
        "\n",
        "def compute_driving_loss(dist, actions, rewards):\n",
        "    # Arguments:\n",
        "    #   logits: network's predictions for actions to take\n",
        "    #   actions: the actions the agent took in an episode\n",
        "    #   rewards: the rewards the agent received in an episode\n",
        "    # Returns:\n",
        "    #   loss\n",
        "    '''TODO: complete the function call to compute the negative log probabilities\n",
        "    of the agent's actions.'''\n",
        "    # neg_logprob = '''TODO'''\n",
        "\n",
        "    '''TODO: scale the negative log probability by the rewards.'''\n",
        "    # loss = tf.reduce_mean('''TODO''')\n",
        "    return loss\n"
      ]
    },
    {
      "cell_type": "markdown",
      "metadata": {
        "id": "fCCMKLaIJ9Bs"
      },
      "source": [
        "## 3.10 Train the self-driving agent\n",
        "\n",
        "We're now all set up to start training our RL algorithm and agent for autonomous driving!\n",
        "\n",
        "We begin be initializing an opitimizer, environment, a new driving agent, and `Memory` buffer. This will be in the first code block. To restart training completely, you will need to re-run this cell to re-initiailize everything.\n",
        "\n",
        "The second code block is the main training script. Here reinforcement learning episodes will be executed by agents in the VISTA environment. Since the self-driving agent starts out with literally zero knowledge of its environment, it can often take a long time to train and achieve stable behavior -- keep this in mind! For convenience, stopping and restarting the second cell will pick up training where you left off.\n",
        "\n",
        "The training block will execute a policy in the environment until the agent crashes. When the agent crashes, the (state, action, reward) triplet `(s,a,r)` of the agent at the end of the episode will be saved into the `Memory` buffer, and then provided as input to the policy gradient loss function. This information will be used to execute optimization within the training step. Memory will be cleared, and we will then do it all over again!\n",
        "\n",
        "Let's run the code block to train our self-driving agent. We will again visualize the evolution of the total reward as a function of training to get a sense of how the agent is learning. **You should reach a reward of at least 100 to get bare minimum stable behavior.**"
      ]
    },
    {
      "cell_type": "code",
      "source": [
        "## Training parameters and initialization ##\n",
        "## Re-run this cell to restart training from scratch ##\n",
        "\n",
        "''' TODO: Learning rate and optimizer '''\n",
        "# learning_rate = '''TODO'''\n",
        "# optimizer = '''TODO'''\n",
        "\n",
        "# instantiate driving agent\n",
        "vista_reset()\n",
        "driving_model = create_driving_model()\n",
        "# NOTE: the variable driving_model will be used in run_driving_model execution\n",
        "\n",
        "# to track our progress\n",
        "smoothed_reward = mdl.util.LossHistory(smoothing_factor=0.9)\n",
        "plotter = mdl.util.PeriodicPlotter(sec=2, xlabel='Iterations', ylabel='Rewards')\n",
        "\n",
        "# instantiate Memory buffer\n",
        "memory = Memory()"
      ],
      "metadata": {
        "id": "uZGn94sJCtBb"
      },
      "execution_count": null,
      "outputs": []
    },
    {
      "cell_type": "code",
      "execution_count": null,
      "metadata": {
        "scrolled": true,
        "id": "G8GhVvZQJ9Bs"
      },
      "outputs": [],
      "source": [
        "## Driving training! Main training block. ##\n",
        "## Note: stopping and restarting this cell will pick up training where you\n",
        "#        left off. To restart training you need to rerun the cell above as \n",
        "#        well (to re-initialize the model and optimizer)\n",
        "\n",
        "max_batch_size = 300\n",
        "max_reward = float('-inf') # keep track of the maximum reward acheived during training\n",
        "if hasattr(tqdm, '_instances'): tqdm._instances.clear() # clear if it exists\n",
        "for i_episode in range(500):\n",
        "\n",
        "    plotter.plot(smoothed_reward.get())\n",
        "    # Restart the environment\n",
        "    vista_reset()\n",
        "    memory.clear()\n",
        "    observation = grab_and_preprocess_obs(car)\n",
        "\n",
        "    while True:\n",
        "        # TODO: using the car's current observation compute the desired \n",
        "        #  action (curvature) distribution by feeding it into our \n",
        "        #  driving model (use the function you already built to do this!) '''\n",
        "        # curvature_dist = '''TODO'''\n",
        "        \n",
        "        # TODO: sample from the action *distribution* to decide how to step\n",
        "        #   the car in the environment. You may want to check the documentation\n",
        "        #   for tfp.distributions.Normal online. Remember that the sampled action\n",
        "        #   should be a single scalar value after this step.\n",
        "        # curvature_action = '''TODO'''\n",
        "        \n",
        "        # Step the simulated car with the same action\n",
        "        vista_step(curvature_action)\n",
        "        observation = grab_and_preprocess_obs(car)\n",
        "               \n",
        "        # TODO: Compute the reward for this iteration. You define \n",
        "        #   the reward function for this policy, start with something \n",
        "        #   simple - for example, give a reward of 1 if the car did not \n",
        "        #   crash and a reward of 0 if it did crash.\n",
        "        #  reward = '''TODO'''\n",
        "        \n",
        "        # add to memory\n",
        "        memory.add_to_memory(observation, curvature_action, reward)\n",
        "        \n",
        "        # is the episode over? did you crash or do so well that you're done?\n",
        "        if reward == 0.0:\n",
        "            # determine total reward and keep a record of this\n",
        "            total_reward = sum(memory.rewards)\n",
        "            smoothed_reward.append(total_reward)\n",
        "            \n",
        "            # execute training step - remember we don't know anything about how the \n",
        "            #   agent is doing until it has crashed! if the training step is too large \n",
        "            #   we need to sample a mini-batch for this step.\n",
        "            batch_size = min(len(memory), max_batch_size)\n",
        "            i = np.random.choice(len(memory), batch_size, replace=False)\n",
        "            train_step(driving_model, compute_driving_loss, optimizer, \n",
        "                               observations=np.array(memory.observations)[i],\n",
        "                               actions=np.array(memory.actions)[i],\n",
        "                               discounted_rewards = discount_rewards(memory.rewards)[i], \n",
        "                               custom_fwd_fn=run_driving_model)            \n",
        "            # reset the memory\n",
        "            memory.clear()\n",
        "            break"
      ]
    },
    {
      "cell_type": "markdown",
      "metadata": {
        "id": "yevBnJCFJ9Bt"
      },
      "source": [
        "## 3.11 Evaluate the self-driving agent\n",
        "\n",
        "Finally we can put our trained self-driving agent to the test! It will execute autonomous control, in VISTA, based on the learned controller. We will evaluate how well it does based on this distance the car travels without crashing. We await the result..."
      ]
    },
    {
      "cell_type": "code",
      "execution_count": null,
      "metadata": {
        "scrolled": true,
        "id": "DzeswkSnJ9Bt"
      },
      "outputs": [],
      "source": [
        "## Evaluation block!##\n",
        "\n",
        "i_step = 0\n",
        "num_episodes = 5\n",
        "num_reset = 5\n",
        "stream = VideoStream()\n",
        "for i_episode in range(num_episodes):\n",
        "    \n",
        "    # Restart the environment\n",
        "    vista_reset()\n",
        "    observation = grab_and_preprocess_obs(car)\n",
        "    \n",
        "    print(\"rolling out in env\")\n",
        "    episode_step = 0\n",
        "    while not check_crash(car) and episode_step < 100:\n",
        "        # using our observation, choose an action and take it in the environment\n",
        "        curvature_dist = run_driving_model(observation)\n",
        "        curvature = curvature_dist.mean()[0,0]\n",
        "\n",
        "        # Step the simulated car with the same action\n",
        "        vista_step(curvature)\n",
        "        observation = grab_and_preprocess_obs(car)\n",
        "\n",
        "        vis_img = display.render()\n",
        "        stream.write(vis_img[:, :, ::-1], index=i_step)\n",
        "        i_step += 1\n",
        "        episode_step += 1\n",
        "        \n",
        "    for _ in range(num_reset):\n",
        "        stream.write(np.zeros_like(vis_img), index=i_step)\n",
        "        i_step += 1\n",
        "        \n",
        "print(f\"Average reward: {(i_step - (num_reset*num_episodes)) / num_episodes}\")\n",
        "\n",
        "print(\"Saving trajectory with trained policy...\")\n",
        "stream.save(\"trained_policy.mp4\")\n",
        "mdl.lab3.play_video(\"trained_policy.mp4\")"
      ]
    },
    {
      "cell_type": "markdown",
      "source": [
        "Congratulations for making it to this point and for training an autonomous vehicle control policy using deep neural networks and reinforcement learning! Now, with an eye towards the lab competition, think about what you can change -- about the controller model, your data, your learning algorithm... -- to improve performance even further. Below in 3.11 we have some suggestions to get you started. We hope to see your self-driving control policy put to the ***real*** test!"
      ],
      "metadata": {
        "id": "Dq6TZoYvoPyy"
      }
    },
    {
      "cell_type": "markdown",
      "source": [
        "## 3.11 Conclusion and submission information\n",
        "\n",
        "That's it! Congratulations on training two RL agents and putting them to the test! We encourage you to consider the following:\n",
        "\n",
        "* How does each agent perform?\n",
        "* How does the complexity of the self-driving car agent compare to CartPole, and how does it alter the rate at which the agent learns and its performance? \n",
        "* What are some things you could change about the agent or the learning process to potentially improve performance?\n",
        "\n",
        "Try to optimize your **self-driving car** model and algorithm to achieve improved performance.  **MIT students and affiliates will be eligible for prizes during the IAP offering. The prize for this lab includes an opportunity to test your model and algorithm onboard a full-scale autonomous vehicle in the real world.**\n",
        "\n",
        "To get you started, here are some suggested ways to improve your self-driving car model and/or RL algorithm:\n",
        "\n",
        "* different model architectures, for example recurrent models or Transformers with self-attention;\n",
        "* data augmentation and improved pre-processing;\n",
        "* different data modalities from different sensor types. VISTA also supports [LiDAR](https://driving.ca/car-culture/auto-tech/what-is-lidar-and-how-is-it-used-in-cars) and [event-based camera](https://arxiv.org/pdf/1804.01310.pdf) data, with a [new VISTA paper](https://arxiv.org/pdf/2111.12083.pdf) describing this. If you are interested in this, please contact Alexander Amini (amini@mit.edu)!\n",
        "* improved reinforcement learning algorithms, such as [PPO](https://paperswithcode.com/paper/proximal-policy-optimization-algorithms), [TRPO](https://paperswithcode.com/method/trpo), or [A3C](https://paperswithcode.com/method/a3c);\n",
        "* different reward functions for reinforcemnt learning, for example penalizing the car's distance to the lane center rather than just whether or not it crashed;\n",
        "* [Guided Policy Learning (GPL)](https://rll.berkeley.edu/gps/). Not reinforcement learning, but a powerful algorithm to leverage human data to provide additional supervision the learning task.\n",
        "\n",
        "To enter the competition, MIT students and affiliates should upload the following to the course Canvas:\n",
        "\n",
        "* Jupyter notebook with the code you used to generate your results, **with the self-driving car agent training fully executed**;\n",
        "* **saved video of your self-driving agent executing a trajectory in VISTA**;\n",
        "* printout / recording of the **maximum distance traveled by your agent** before crashing;\n",
        "* **text description and/or visual diagram** of the architecture, settings, algorithm, hyperparameters, etc you used to generate your result -- if there are any additional or interesting modifications you made to the template code, please include these in your description;\n",
        "* finally, **separate `.py` script** containing the code for your model, as well as **a function call to load your model and the final trained weights**. This will mean you will have to access and load the weights of your trained model in this script;\n",
        "\n",
        "We will evaluate your entries based on the above components, as well as potential real-time evaluation of top candidates in new VISTA environments with snow / winter traces. The link for these traces is [here](https://www.dropbox.com/s/3wxyvjfquloonqc/vista_traces_snow.zip). You are welcome to download this data and evaluate your models on it as well.\n",
        "\n",
        "Good luck!\n",
        "\n",
        "<p align=\"center\">\n",
        "<img src=\"https://media.giphy.com/media/H7rpSYHRyYgamxQNqw/giphy-downsized-large.gif\" width=\"700\"/>\n",
        "</p>"
      ],
      "metadata": {
        "id": "6c6uO21GoRfw"
      }
    },
    {
      "cell_type": "code",
      "source": [
        ""
      ],
      "metadata": {
        "id": "ac8FNK-x8gNn"
      },
      "execution_count": null,
      "outputs": []
    }
  ],
  "metadata": {
    "accelerator": "GPU",
    "colab": {
      "collapsed_sections": [
        "WoXYKhfZMHiw",
        "UT7YL8KBJIIc",
        "Eu6Mqxc720ST"
      ],
      "name": "RL.ipynb",
      "provenance": [],
      "include_colab_link": true
    },
    "kernelspec": {
      "display_name": "Python 3",
      "language": "python",
      "name": "python3"
    },
    "language_info": {
      "codemirror_mode": {
        "name": "ipython",
        "version": 3
      },
      "file_extension": ".py",
      "mimetype": "text/x-python",
      "name": "python",
      "nbconvert_exporter": "python",
      "pygments_lexer": "ipython3",
      "version": "3.9.7"
    }
  },
  "nbformat": 4,
  "nbformat_minor": 0
}